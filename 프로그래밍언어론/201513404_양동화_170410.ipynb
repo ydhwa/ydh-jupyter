{
 "cells": [
  {
   "cell_type": "markdown",
   "metadata": {
    "deletable": true,
    "editable": true
   },
   "source": [
    "# 프로그래밍 언어론 6주차 실습\n",
    "\n",
    "## 파이썬의 입출력\n",
    "- input() : 입력되는 모든것을 문자열로 취급한다.\n",
    "\n",
    "### print\n",
    "- ','는 띄어쓰기 취급.\n",
    "- print ([value], ..., [sep=''], [end=''], [file\\sys.stdout(출력하는 곳)], [flush=False])\n",
    "- sep: value간의 간격.\n",
    "- end: 출력 마지막 값 설정.\n",
    "- sys.stdout: 모니터 출력.\n",
    "- flush: 강제적으로 스트림을 플러시 할지 여부 설정.\n",
    "\n",
    "## file\n",
    "### 파일 객체 생성: open()\n",
    "- 파일이름 = open(파일이름, 파일열기모드)\n",
    "- r: 읽기 모드 / w: 쓰기 모드 / a: 추가 모드\n",
    "- 닫을 때는 f.close(). 반드시 close()를 사용하여 파일을 닫아야만 한다.\n",
    "\n",
    "### 버퍼가 없다면?\n",
    "- 엄청나게 느려짐.\n",
    "\n",
    "### 파일을 읽는 방법\n",
    "#### 1. readline()\n",
    "- 파일에서 한 줄을 읽어오는 함수.\n",
    "- 문자열 형식으로 읽어들임.\n",
    "\n",
    "#### 2. readlines()\n",
    "- 모든 라인을 한꺼번에 읽어들여 각 줄을 요소로 갖는 리스트를 반환.\n",
    "\n",
    "#### 3. read()\n",
    "- 파일을 전부 읽은 문자열을 반환.\n",
    "\n",
    "#### 4. f = open('README.txt', 'r')\n",
    "- for line in f:\n",
    "-     print line\n"
   ]
  },
  {
   "cell_type": "code",
   "execution_count": 14,
   "metadata": {
    "collapsed": false
   },
   "outputs": [
    {
     "name": "stdout",
     "output_type": "stream",
     "text": [
      "hello\n",
      "3   6   9okey"
     ]
    }
   ],
   "source": [
    "import sys\n",
    "sys.stdout.write ('hello')\n",
    "print ()\n",
    "print (3, 6, 9, sep='   ', end='okey')"
   ]
  },
  {
   "cell_type": "markdown",
   "metadata": {
    "deletable": true,
    "editable": true
   },
   "source": [
    "### 파일 쓰기\n",
    "- 파일을 쓰기모드로 열어서 출력값 적기.\n",
    "- 파일을 생성하기 위해 open() 함수 사용.\n",
    "- f = open('textfile.txt', 'w')\n",
    "\n",
    "### 파일에 내용 추가하기\n",
    "- 'w' 옵션으로 file을 열면 기존의 내용은 사라짐.\n",
    "- 기존의 내용에 새로운 내용을 추가하고자 할 때는 'a' 옵션을 사용한다.\n",
    "\n",
    "### 파일 포인터\n",
    "- 파일의 현재 위치를 가리키는 것.\n",
    "- f.tell(): 현재 파일 포인터의 위치를 반환한다.\n",
    "- f.seek(n): 지정하는 곳으로 포인터의 위치를 변경한다.\n",
    "\n",
    "### 파이썬 프로그램에 입력인수 전달\n",
    "- sys 모듈 입력: Dos나 Unix shell에서 Python 명령어를 실행하면서 입력인수를 넣어줄 수 있다.\n",
    "- xxx.py arg1 arg2 arg3 ...\n",
    "- 사용법:\n",
    "- import sys\n",
    "- ...\n",
    "- 만약 위와 같이 입력했다면\n",
    "- argv[1] = arg1, argv[2] = arg2, ...를 뜻한다."
   ]
  },
  {
   "cell_type": "code",
   "execution_count": 2,
   "metadata": {
    "collapsed": false,
    "deletable": true,
    "editable": true
   },
   "outputs": [
    {
     "name": "stdout",
     "output_type": "stream",
     "text": [
      "error: file not found!\n"
     ]
    }
   ],
   "source": [
    "# 숙제 (1).\n",
    "# Unix의 cp(copy) 명령어를 python으로 구현하시오.\n",
    "# 파일을 찾지 못했을 경우의 예외처리까지 구현해보았다.\n",
    "# 실행 결과는 캡쳐하여 압축파일 안에 넣어두었다.\n",
    "\n",
    "import sys\n",
    "\n",
    "try:\n",
    "    copyf = open(sys.argv[1], 'r')\n",
    "    pastef = open(sys.argv[2], 'w')\n",
    "    while 1:\n",
    "        line = copyf.readline()\n",
    "        if not line: break\n",
    "        pastef.write(line)\n",
    "    copyf.close()\n",
    "    pastef.close()\n",
    "except:\n",
    "    print ('error: file not found!')"
   ]
  },
  {
   "cell_type": "code",
   "execution_count": 6,
   "metadata": {
    "collapsed": false,
    "deletable": true,
    "editable": true
   },
   "outputs": [
    {
     "name": "stdout",
     "output_type": "stream",
     "text": [
      "error: file not found!\n"
     ]
    }
   ],
   "source": [
    "# 숙제 (2).\n",
    "# Unix의 wc 명령어를 python으로 구현하시오.\n",
    "# 파일을 찾지 못했을 경우의 예외처리까지 구현해보았다.\n",
    "# wc 명령어는 file의 라인 수, 단어 수를 구하여 출력시킨다.\n",
    "# 단어는 공백으로 구분된 스트링이라고 가정한다.\n",
    "# 대소문자 구분은 하지 않았다.\n",
    "\n",
    "import sys\n",
    "\n",
    "try:\n",
    "    dic = {}\n",
    "    linecount = 0\n",
    "    f = open(sys.argv[1], 'r')\n",
    "    for line in f:\n",
    "        line = line.replace('\\n', '')\n",
    "        linecount += 1\n",
    "        words = line.split(' ')\n",
    "        for word in words:\n",
    "            if word in dic:\n",
    "                dic[word] += 1\n",
    "            else:\n",
    "                dic[word] = 1\n",
    "    print ('Lines: ', linecount)\n",
    "    print ('----- Words -----')\n",
    "    for word in dic:\n",
    "        print (word, dic[word])\n",
    "    f.close()\n",
    "except:\n",
    "    print ('error: file not found!')"
   ]
  }
 ],
 "metadata": {
  "kernelspec": {
   "display_name": "Python 3",
   "language": "python",
   "name": "python3"
  },
  "language_info": {
   "codemirror_mode": {
    "name": "ipython",
    "version": 3
   },
   "file_extension": ".py",
   "mimetype": "text/x-python",
   "name": "python",
   "nbconvert_exporter": "python",
   "pygments_lexer": "ipython3",
   "version": "3.6.0"
  }
 },
 "nbformat": 4,
 "nbformat_minor": 2
}

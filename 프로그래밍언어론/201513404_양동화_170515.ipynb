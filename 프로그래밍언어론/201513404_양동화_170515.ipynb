{
 "cells": [
  {
   "cell_type": "markdown",
   "metadata": {},
   "source": [
    "# 프로그래밍 언어론 11주차 실습\n",
    "## 연산자 오버로딩\n",
    " - 연산자 등을 instance끼리 사용할 수 있게 하는 기법.\n",
    " - \\+ 연산자를 사용한다면,\n",
    " - Java: a.add(b)\n",
    " - Python: a.+(b) # add 함수 대신 +를 사용해도 되는 것이다. +의 기능에 사용자가 새로운 기능을 넣을 있음.\n",
    " - self.\\__add\\__(other)"
   ]
  },
  {
   "cell_type": "code",
   "execution_count": 29,
   "metadata": {},
   "outputs": [],
   "source": [
    "# 연산자 오버로딩 연습.\n",
    "# add와 sub 구현.\n",
    "# 연산자 오버로딩만 연습하는 것이므로 세부 함수들은 구현하지 않았다.\n",
    "\n",
    "class HousePark:\n",
    "    lastname = \"박\"\n",
    "    \n",
    "    def __init__(self, name):\n",
    "        self.fullname = self.lastname + name\n",
    "    def __add__(self, other):\n",
    "        print (\"{0:s}, {1:s} 결혼했네.\".format(self.fullname, other.fullname))\n",
    "    def __sub__(self, other):\n",
    "        print (\"{0:s}, {1:s} 이혼했네.\".format(self.fullname, other.fullname))\n",
    "        \n",
    "class HouseKim(HousePark):\n",
    "    lastname = \"김\""
   ]
  },
  {
   "cell_type": "code",
   "execution_count": 28,
   "metadata": {},
   "outputs": [
    {
     "name": "stdout",
     "output_type": "stream",
     "text": [
      "박응용, 김줄리엣 결혼했네.\n",
      "박응용, 김줄리엣 이혼했네.\n"
     ]
    }
   ],
   "source": [
    "pey = HousePark(\"응용\")\n",
    "julliet = HouseKim(\"줄리엣\")\n",
    "pey + julliet\n",
    "pey - julliet"
   ]
  },
  {
   "cell_type": "markdown",
   "metadata": {},
   "source": [
    "## 모듈 (Module)\n",
    "### 모듈이란?\n",
    " - 함수나 변수들, 또는 클래스들을 모아놓은 파일.\n",
    " - 다른 python 프로그램에서 import하여 쓸 수 있게 만들어진 파일.\n",
    " - 1) 모듈을 생성(.py).\n",
    " - 2) 모듈 읽어들이기.\n",
    " - import 모듈명: 전체 모듈 import\n",
    " - from 기능 import 모듈명: 모듈 안에 있는 특정 기능만을 사용\n",
    "\n",
    "### Module: \\__main\\__\n",
    " - \\__name\\__ == \"\\__main\\__\"\n",
    " - 메인 함수가 따로 없기 때문에 위의 문장으로 체크한다.\n",
    " \n",
    "### 에러 처리하기 (try, except)\n",
    " - try: 예외가 발생할 수 있는 문장들.\n",
    " - except [발생에러(복수 가능)[as 에러메시지변수]]: \n",
    " - ...\n",
    " - 에러메시지변수의 경우 따로 무언가를 지정하고 싶지 않으면 적지 않아도 된다.\n",
    " - Java의 throw = python의 raise"
   ]
  },
  {
   "cell_type": "code",
   "execution_count": 35,
   "metadata": {},
   "outputs": [
    {
     "name": "stdout",
     "output_type": "stream",
     "text": [
      "division by zero\n",
      "openfile as writing mode.\n"
     ]
    }
   ],
   "source": [
    "# 0으로 나누기 에러 처리.\n",
    "try:\n",
    "    4 / 0\n",
    "except ZeroDivisionError as e:\n",
    "    print (e)\n",
    "        \n",
    "# 파일 에러 처리.\n",
    "try:\n",
    "    f = open(\"not_exist_file.txt\", \"r\")\n",
    "except IOError:\n",
    "    print (\"openfile as writing mode.\")\n",
    "    f = open(\"not_exist_file_txt\", \"w\")"
   ]
  },
  {
   "cell_type": "markdown",
   "metadata": {},
   "source": [
    "### 내장 함수\n",
    " - import 필요 없이 python에서 바로 사용할 수 있는 함수.\n",
    " - __lambda, filter, map__은 다시 잘 알아 둘 필요가 있다. (중요)"
   ]
  },
  {
   "cell_type": "code",
   "execution_count": 57,
   "metadata": {},
   "outputs": [
    {
     "name": "stdout",
     "output_type": "stream",
     "text": [
      "15\n",
      "2.23606797749979\n",
      "a\n",
      "['__add__', '__class__', '__contains__', '__delattr__', '__delitem__', '__dir__', '__doc__', '__eq__', '__format__', '__ge__', '__getattribute__', '__getitem__', '__gt__', '__hash__', '__iadd__', '__imul__', '__init__', '__init_subclass__', '__iter__', '__le__', '__len__', '__lt__', '__mul__', '__ne__', '__new__', '__reduce__', '__reduce_ex__', '__repr__', '__reversed__', '__rmul__', '__setattr__', '__setitem__', '__sizeof__', '__str__', '__subclasshook__', 'append', 'clear', 'copy', 'count', 'extend', 'index', 'insert', 'pop', 'remove', 'reverse', 'sort']\n",
      "['__abs__', '__add__', '__and__', '__bool__', '__ceil__', '__class__', '__delattr__', '__dir__', '__divmod__', '__doc__', '__eq__', '__float__', '__floor__', '__floordiv__', '__format__', '__ge__', '__getattribute__', '__getnewargs__', '__gt__', '__hash__', '__index__', '__init__', '__init_subclass__', '__int__', '__invert__', '__le__', '__lshift__', '__lt__', '__mod__', '__mul__', '__ne__', '__neg__', '__new__', '__or__', '__pos__', '__pow__', '__radd__', '__rand__', '__rdivmod__', '__reduce__', '__reduce_ex__', '__repr__', '__rfloordiv__', '__rlshift__', '__rmod__', '__rmul__', '__ror__', '__round__', '__rpow__', '__rrshift__', '__rshift__', '__rsub__', '__rtruediv__', '__rxor__', '__setattr__', '__sizeof__', '__str__', '__sub__', '__subclasshook__', '__truediv__', '__trunc__', '__xor__', 'bit_length', 'conjugate', 'denominator', 'from_bytes', 'imag', 'numerator', 'real', 'to_bytes']\n"
     ]
    }
   ],
   "source": [
    "# 내장 함수 연습.\n",
    "\n",
    "# abs. 절댓값 반환.\n",
    "print (abs(-15))\n",
    "print (abs(1 + 2j))\n",
    "\n",
    "# chr. 아스키 문자 반환.\n",
    "print (chr(97))\n",
    "\n",
    "# dir. 해당 변수가 속해 있는 것들 반환.\n",
    "print (dir([1, 2, 3]))\n",
    "print (dir(1))"
   ]
  },
  {
   "cell_type": "code",
   "execution_count": 52,
   "metadata": {},
   "outputs": [
    {
     "name": "stdout",
     "output_type": "stream",
     "text": [
      "7\n",
      "(2, 1)\n",
      "3\n",
      "0 a\n",
      "1 b\n",
      "2 c\n",
      "[1, 2, 6]\n",
      "0xea\n",
      "1962231472\n",
      "1962231472\n",
      "ㅁㅁㅁ\n",
      "Enter: ㅁㅁㅁㅁ\n"
     ]
    }
   ],
   "source": [
    "#lambda. 사용자 임의 지정 함수.\n",
    "sum = lambda a, b: a + b\n",
    "print (sum(3, 4))\n",
    "\n",
    "# divmod. 몫, 나머지.\n",
    "print (divmod(7, 3))\n",
    "\n",
    "# eval. '' 안에 들어간 연산자 연산시켜줌.\n",
    "print (eval('1 + 2'))\n",
    "\n",
    "# enumerate. 열거형.\n",
    "for i, name in enumerate(['a', 'b', 'c']):\n",
    "    print (i, name)\n",
    "    \n",
    "# filter. 특정한 함수의 조건에 맞는 값들만 필터링.\n",
    "# 일반적인 함수로 구현하는 방법으로는 굳이 구현해보지 않았다.\n",
    "def positive(x):\n",
    "    return x > 0\n",
    "print (list(filter(positive, [1, -3, 2, 0, -5, 6])))\n",
    "\n",
    "# hex. 16진수로 출력. 출력 모양; 0x16진수.\n",
    "print (hex(234))\n",
    "\n",
    "# id. 변수의 id(고유번호(?)) 나타나게 함.\n",
    "a = 3\n",
    "print (id(a))\n",
    "b = a\n",
    "print (id(b))\n",
    "\n",
    "# input. 입력 폼 나타나게 함.\n",
    "c = input()\n",
    "d = input(\"Enter: \")"
   ]
  },
  {
   "cell_type": "code",
   "execution_count": 62,
   "metadata": {},
   "outputs": [
    {
     "name": "stdout",
     "output_type": "stream",
     "text": [
      "3\n",
      "3\n",
      "3\n",
      "26\n",
      "True\n",
      "False\n",
      "6\n",
      "3\n",
      "2\n",
      "['p', 'y', 't', 'h', 'o', 'n']\n",
      "[2, 3, 5]\n",
      "[1, 2, 3]\n",
      "[1, 2, 3]\n",
      "71784928 71784128\n"
     ]
    }
   ],
   "source": [
    "# int. 정수형으로 변환시킨다.\n",
    "print (int('3'))\n",
    "print (int(3.4))\n",
    "print (int('11', 2)) # 11이라는 이진수 값.\n",
    "print (int('1A', 16)) # 1A이라는 16진수 값.\n",
    "\n",
    "# isinstance. 어떤 변수가 어떤 클래스의 인스턴스인지 여부 판별.\n",
    "class Person: pass\n",
    "a = Person()\n",
    "b = 3\n",
    "print (isinstance(a, Person))\n",
    "print (isinstance(b, Person))\n",
    "\n",
    "# len. 리스트, 투플 등과 문자열의 길이를 반환.\n",
    "print (len(\"python\"))\n",
    "print (len([1, 2, 3]))\n",
    "print (len(('a', 3)))\n",
    "\n",
    "# list. 주어진 것을 리스트형으로 변환시킨다.\n",
    "print (list(\"python\"))\n",
    "print (list((2, 3, 5)))\n",
    "# 리스트를 리스트형으로 변환 해본다.\n",
    "# aa와 bb의 id 값이 서로 다른 것을 확인.\n",
    "# 이유는 aa를 bb에 복사하기 때문이다.\n",
    "aa = [1, 2, 3]\n",
    "bb = list(aa)\n",
    "print (aa)\n",
    "print (bb)\n",
    "print (id(aa), id(bb))"
   ]
  },
  {
   "cell_type": "code",
   "execution_count": 1,
   "metadata": {},
   "outputs": [
    {
     "name": "stdout",
     "output_type": "stream",
     "text": [
      "[2, 4, 6, 8]\n",
      "3\n",
      "y\n",
      "1\n",
      "h\n",
      "0o42\n",
      "0o361100\n",
      "97\n",
      "79\n",
      "16\n",
      "[0, 1, 2, 3, 4]\n",
      "[5, 6, 7, 8, 9]\n",
      "[100, 99, 98, 97, 96, 95, 94, 93, 92, 91, 90, 89, 88, 87, 86, 85, 84, 83, 82, 81, 80, 79, 78, 77, 76, 75, 74, 73, 72, 71, 70, 69, 68, 67, 66, 65, 64, 63, 62, 61, 60, 59, 58, 57, 56, 55, 54, 53, 52, 51, 50, 49, 48, 47, 46, 45, 44, 43, 42, 41, 40, 39, 38, 37, 36, 35, 34, 33, 32, 31, 30, 29, 28, 27, 26, 25, 24, 23, 22, 21, 20, 19, 18, 17, 16, 15, 14, 13, 12, 11, 10, 9, 8, 7, 6, 5, 4, 3, 2, 1]\n"
     ]
    }
   ],
   "source": [
    "# map. 어떤 변수들을 특정 함수의 연산을 거쳐 나타냄.\n",
    "# 기존 함수는 굳이 써보지 않았다.\n",
    "def two_times(x): return x * 2\n",
    "print (list(map(two_times, [1, 2, 3, 4])))\n",
    "# lambda 적용하는 것은 이 버전에서는 실행되지 않는다.\n",
    "# SyntaxError: unexpected EOF while parsing.\n",
    "\n",
    "# max. 최댓값 반환.\n",
    "print (max([1, 2, 3]))\n",
    "print (max(\"python\"))\n",
    "\n",
    "# min. 최솟값 반환.\n",
    "print (min([1, 2, 3]))\n",
    "print (min(\"python\"))\n",
    "\n",
    "# oct. 8진수 반환. 출력 형태: 0o8진수.\n",
    "print (oct(34))\n",
    "print (oct(123456))\n",
    "\n",
    "# ord. 아스키 문자를 정수로 반환.\n",
    "print (ord('a'))\n",
    "print (ord('O'))\n",
    "\n",
    "# pow. n의 m제곱.\n",
    "print (pow(2, 4))\n",
    "\n",
    "# range. 특정 숫자까지의 범위를 리스트형태로 반환.\n",
    "print (list(range(5)))\n",
    "print (list(range(5, 10)))\n",
    "print (list(range(100, 0, -1)))"
   ]
  },
  {
   "cell_type": "code",
   "execution_count": 13,
   "metadata": {},
   "outputs": [
    {
     "name": "stdout",
     "output_type": "stream",
     "text": [
      "'HI'\n",
      "HI\n",
      "'test'\n",
      "test\n"
     ]
    }
   ],
   "source": [
    "# repr. 객체를 출력할 수 있는 문자열 형태로 변환하여 돌려주는 함수이다.\n",
    "# str 역시 비슷한 기능을 하지만 str은 문자열 그 자체로만 돌려주는 함수이다.\n",
    "print (repr(\"hi\".upper()))\n",
    "print (eval(repr(\"hi\".upper())))\n",
    "# str로 변환된 값은 eval의 입력값이 될 수 없으므로 eval(str(\"hi).upper())은 오류가 난다.\n",
    "\n",
    "print (repr('test'))\n",
    "print (str('test'))"
   ]
  },
  {
   "cell_type": "code",
   "execution_count": 24,
   "metadata": {},
   "outputs": [
    {
     "name": "stdout",
     "output_type": "stream",
     "text": [
      "[1, 2, 3]\n",
      "['a', 'b', 'c']\n",
      "3\n",
      "OLLEH\n",
      "('a', 'b', 'c')\n",
      "(1, 2, 3)\n",
      "(1, 2, 3)\n",
      "<class 'str'>\n",
      "<class 'list'>\n",
      "<class '_io.TextIOWrapper'>\n",
      "[(1, 4), (2, 5), (3, 6)]\n",
      "[(1, 4, 7), (2, 5, 8)]\n",
      "[('a', 'd'), ('b', 'e'), ('c', 'f')]\n",
      "[('a', 'd'), ('b', 'e'), ('c', 'f')]\n",
      "[('a', 'd'), ('b', 'g'), ('c', 'f'), ('f', 'a')]\n"
     ]
    }
   ],
   "source": [
    "# sorted. 투플이나 리스트를 정렬한 리스트의 형태로 반환한다.\n",
    "print (sorted([3, 1, 2]))\n",
    "print (sorted(('c', 'b', 'a')))\n",
    "\n",
    "# open. 파일을 각 모드로 여는 함수이다.\n",
    "# 모드는 w: 쓰기모드, r: 읽기모드, a: 추가모드, b: 바이너리 모드가 있다.\n",
    "# 사용법은 file = open(\"파일명\", '모드')이다.\n",
    "# 여러 모드를 한 번에 써 넣을 수 있다. (예를 들면 읽기모드+바이너리모드: 'rb')\n",
    "# 노트북에서는 사용하기 힘드므로 주석으로 적어놓기만 한다.\n",
    "\n",
    "# str. 객체를 출력할 수 있는 문자열 형태로 변환하여 돌려주는 함수이다.\n",
    "# repr과 비슷하나, str의 경우 다른 내장함수인 eval의 입력값이 될 수 없고,\n",
    "# 반환값이 문자열 그 자체이다.\n",
    "print (str(3))\n",
    "print (str('olleh'.upper()))\n",
    "\n",
    "# tuple. 주어진 문자열이나 리스트 등을 immutable한 리스트 형태인 투플로 형변환한다.\n",
    "print (tuple(\"abc\"))\n",
    "print (tuple([1, 2, 3]))\n",
    "print (tuple((1, 2, 3)))\n",
    "\n",
    "# type. 변수나 값의 형태가 무엇인지 나타내준다.\n",
    "print (type(\"abc\"))\n",
    "print (type([]))\n",
    "print (type(open(\"test\", 'w')))\n",
    "\n",
    "# zip. 각각의 리스트에 있는 값들의 위치에 따라 투플로 묶은 후,\n",
    "# 그 투플의 리스트로 반환시킨다.\n",
    "# 중복된 값은 하나로 치며, 문자열은 각각의 문자를 리스트의 요소로 본다.\n",
    "# 짝이 없는 것들은 아예 최종값에 넣지 않는다. 따라서 짝이 없는 값들은 무시된다.\n",
    "print (list(zip([1, 2, 3], [4, 5, 6])))\n",
    "print (list(zip([1, 2, 3], [4, 5, 6], [7, 8])))\n",
    "print (list(zip(\"abc\", \"def\")))\n",
    "print (list(zip(\"abc\", \"defg\")))\n",
    "print (list(zip(\"abcfffffff\", \"dgfa\")))"
   ]
  }
 ],
 "metadata": {
  "kernelspec": {
   "display_name": "Python 3",
   "language": "python",
   "name": "python3"
  },
  "language_info": {
   "codemirror_mode": {
    "name": "ipython",
    "version": 3
   },
   "file_extension": ".py",
   "mimetype": "text/x-python",
   "name": "python",
   "nbconvert_exporter": "python",
   "pygments_lexer": "ipython3",
   "version": "3.6.1"
  }
 },
 "nbformat": 4,
 "nbformat_minor": 2
}

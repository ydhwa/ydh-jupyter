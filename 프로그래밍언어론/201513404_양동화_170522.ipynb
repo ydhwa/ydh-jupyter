{
 "cells": [
  {
   "cell_type": "markdown",
   "metadata": {},
   "source": [
    "# 프로그래밍언어론 12주차 실습\n",
    "## 정규표현 (Regular Expressions)\n",
    "- \\s: White Space(\\n, \\t, ' ')\n",
    "- [\\s/] = [\\t \\n]\n",
    "- findall: 정규식과 매칭되는 모든 문자열을 리스트로 리턴.\n",
    "- split: 쪼개기.\n",
    "- match: 묶인 부분에 대한 것 반환. (0: 전체 / 1, 2, 3, ...)\n",
    "- match 보충: ((  ) ( 여기 )) - 여기의 경우 3번임. 여는 괄호의 수를 세어 계산.\n",
    "- 실행할 때마다 정규식을 finite state automata로 바꾸어 적용한다.\n",
    "\n",
    "\n",
    "### pattern\n",
    "- 정규식을 한 번 만들어 두고 계속해서 적용할 수 있다.\n",
    "- 위에서 사용하는 정규표현식에 비해 반복작업을 빠르게 수행할 수 있다."
   ]
  },
  {
   "cell_type": "code",
   "execution_count": 10,
   "metadata": {},
   "outputs": [
    {
     "data": {
      "text/plain": [
       "'date is 07/24/2008'"
      ]
     },
     "execution_count": 10,
     "metadata": {},
     "output_type": "execute_result"
    }
   ],
   "source": [
    "import re\n",
    "\n",
    "text = \"date is 24/07/2008\"\n",
    "re.findall(r'(..)/(..)/(....)', text)\n",
    "re.split(r'[\\s/]', text)\n",
    "re.match(r'date is (.*)', text).group(1)\n",
    "re.sub(r'(../)(../)', r'\\2\\1', text)"
   ]
  },
  {
   "cell_type": "code",
   "execution_count": 20,
   "metadata": {},
   "outputs": [],
   "source": [
    "# compile pattern if used multiple times\n",
    "\n",
    "text = \"date is 24/07/2008\"\n",
    "pattern = re.compile(r'(..)/(..)/(....)')\n",
    "pattern.findall(text)\n",
    "pattern = re.compile(r'[\\s/]')\n",
    "pattern.split(text)\n",
    "pattern = re.compile(r'date is (.*)')\n",
    "pattern.match(text).group(1)\n",
    "pattern = re.compile(r'(..)/(..)/(....)')\n",
    "#pattern.sub(r'\\2\\1', text)"
   ]
  },
  {
   "cell_type": "code",
   "execution_count": 91,
   "metadata": {},
   "outputs": [
    {
     "name": "stdout",
     "output_type": "stream",
     "text": [
      "<!DOCTYPE html>\n",
      "<html>\n",
      "<head>\n",
      "\t<title>Hello world!</title>\n",
      "<body>\n",
      "\t<br />\n",
      "\t<br />\n",
      "\t<a href=\"http://naver.com\">사이트로 이동하기</a>\n",
      "</body>\n",
      "</head>\n",
      "</html>\n",
      "Hello world!사이트로 이동하기\n"
     ]
    }
   ],
   "source": [
    "# html tag 삭제.\n",
    "\n",
    "html_file = \"\"\"<!DOCTYPE html>\n",
    "<html>\n",
    "<head>\n",
    "\t<title>Hello world!</title>\n",
    "<body>\n",
    "\t<br />\n",
    "\t<br />\n",
    "\t<a href=\"http://naver.com\">사이트로 이동하기</a>\n",
    "</body>\n",
    "</head>\n",
    "</html>\"\"\"\n",
    "print (html_file)\n",
    "\n",
    "# <[^>]*> 닫는 것이 아닌 것이 0번 이상 등장.\n",
    "# tag 삭제하기.\n",
    "p = re.compile(r'<[^>]*>')\n",
    "p.findall(html_file)\n",
    "re.sub(r'<[^>]*>|[\\t\\n]', '', html_file)\n",
    "print (re.sub(r'<[^>]*>|[\\t\\n]', '', html_file))"
   ]
  }
 ],
 "metadata": {
  "kernelspec": {
   "display_name": "Python 3",
   "language": "python",
   "name": "python3"
  },
  "language_info": {
   "codemirror_mode": {
    "name": "ipython",
    "version": 3
   },
   "file_extension": ".py",
   "mimetype": "text/x-python",
   "name": "python",
   "nbconvert_exporter": "python",
   "pygments_lexer": "ipython3",
   "version": "3.6.1"
  }
 },
 "nbformat": 4,
 "nbformat_minor": 1
}

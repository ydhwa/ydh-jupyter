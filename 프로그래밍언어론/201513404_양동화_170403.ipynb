{
 "cells": [
  {
   "cell_type": "markdown",
   "metadata": {
    "deletable": true,
    "editable": true
   },
   "source": [
    "# 프로그래밍 언어론 5주차 실습\n",
    "## 파이썬의 함수\n",
    " \n",
    "### 함수란?\n",
    " - 입력 -> 결과\n",
    " - 똑같은 내용을 반복\n",
    " - 프로그램을 구조화\n",
    "\n",
    "### 구조\n",
    " - def 함수명(입력인수) :\n",
    " - 　　　<수행할 문장>\n",
    " - 　　　return 결과값\n",
    " - 함수명을 적는 곳에 반환 타입을 적지 않는 것에 유의\n",
    " - 호출하는 법은 C나 Java와 같다: 함수명(인자)\n",
    " \n",
    "### 입력 값이 몇 개인지 모를 경우\n",
    " - def 함수명(*입력인수):\n",
    " - ex) def sum_many(*args):\n",
    " - 입력인수로 입력한 값들이 리스트 형태로 들어간다."
   ]
  },
  {
   "cell_type": "code",
   "execution_count": 1,
   "metadata": {
    "collapsed": true,
    "deletable": true,
    "editable": true
   },
   "outputs": [],
   "source": [
    "# 입력 값이 몇 개인지 모를 경우의 함수 작성 (1).\n",
    "# 입력한 인자는 리스트 형태로 전달된다.\n",
    "\n",
    "def sum_many(*args) :\n",
    "    sum = 0\n",
    "    for i in args :\n",
    "        sum += i\n",
    "    return sum"
   ]
  },
  {
   "cell_type": "code",
   "execution_count": 4,
   "metadata": {
    "collapsed": false,
    "deletable": true,
    "editable": true
   },
   "outputs": [
    {
     "name": "stdout",
     "output_type": "stream",
     "text": [
      "10\n",
      "15\n"
     ]
    }
   ],
   "source": [
    "print (sum_many(1, 2, 3, 4))\n",
    "print (sum_many(3, 5, 7))"
   ]
  },
  {
   "cell_type": "code",
   "execution_count": 3,
   "metadata": {
    "collapsed": true,
    "deletable": true,
    "editable": true
   },
   "outputs": [],
   "source": [
    "# 입력 값이 몇 개인지 모를 경우의 함수 작성 (2).\n",
    "# 입력 인수를 조금 변형해보았다.\n",
    "# 입력 인수의 리스트가 될 것을 먼저 선언할 경우 리스트 범위가 끝까지 잡혀서 오류가 난다.\n",
    "\n",
    "def sum_mul(choice, *args) :\n",
    "    if choice == 'mul' :\n",
    "        result = 1\n",
    "        for i in args :\n",
    "            result *= i\n",
    "    else :\n",
    "        result = 0\n",
    "        for i in args :\n",
    "            result += i\n",
    "    return result"
   ]
  },
  {
   "cell_type": "code",
   "execution_count": 4,
   "metadata": {
    "collapsed": false,
    "deletable": true,
    "editable": true
   },
   "outputs": [
    {
     "name": "stdout",
     "output_type": "stream",
     "text": [
      "120\n",
      "15\n"
     ]
    }
   ],
   "source": [
    "print (sum_mul('mul', 1, 2, 3, 4, 5))\n",
    "print (sum_mul('hello', 1, 2, 3, 4, 5))"
   ]
  },
  {
   "cell_type": "markdown",
   "metadata": {
    "deletable": true,
    "editable": true
   },
   "source": [
    "### 이름으로 구분하는 입력 인수\n",
    " - Java나 C같은 경우에는 위치로 인수를 구분한다.\n",
    " - 파이썬의 경우 위치뿐만 아니라 이름으로 구분할 수도 있다.\n",
    " - def foo(a, b, c) :\n",
    " - 　　　print (a, b, c)\n",
    " - foo(1, 2, 3) -> 1 2 3\n",
    " - foo(c = 3, b = 2, a = 1) -> 1 2 3\n",
    " - foo(1, c = 3, b = 2) -> 1 2 3\n",
    " - 이름에 의한 대응법, 이라고도 함."
   ]
  },
  {
   "cell_type": "code",
   "execution_count": 11,
   "metadata": {
    "collapsed": true,
    "deletable": true,
    "editable": true
   },
   "outputs": [],
   "source": [
    "# 이름으로 구분하는 입력 인수.\n",
    "\n",
    "def foo(a, b, c) :\n",
    "    print(a, b, c)"
   ]
  },
  {
   "cell_type": "code",
   "execution_count": 7,
   "metadata": {
    "collapsed": false,
    "deletable": true,
    "editable": true
   },
   "outputs": [
    {
     "name": "stdout",
     "output_type": "stream",
     "text": [
      "1 2 3\n",
      "1 2 3\n",
      "1 2 3\n"
     ]
    }
   ],
   "source": [
    "foo(1, 2, 3)\n",
    "foo(c = 3, b = 2, a = 1)\n",
    "foo(1, c = 3, b = 2)\n",
    "\n",
    "# foo(2, a = 1, c = 3)의 경우 에러가 난다.\n",
    "# 처음에 이름으로 구분짓지 않은 변수가 그대로 a에 들어가기 때문이다."
   ]
  },
  {
   "cell_type": "markdown",
   "metadata": {
    "deletable": true,
    "editable": true
   },
   "source": [
    "### 리턴 값이 둘 이상일 경우\n",
    " - def 함수명(입력인수) :\n",
    " - 　　　<수행할 문장>\n",
    " - 　　　return (결과1, 결과2)\n",
    " - 반환 값이 투플 형태로 넘어간다."
   ]
  },
  {
   "cell_type": "code",
   "execution_count": 7,
   "metadata": {
    "collapsed": true,
    "deletable": true,
    "editable": true
   },
   "outputs": [],
   "source": [
    "# 리턴 값이 둘 이상일 경우.\n",
    "\n",
    "def sum_and_mul_and_sub(a, b, c) :\n",
    "    return (a + b + c, a * b * c, 0 - a - b - c)"
   ]
  },
  {
   "cell_type": "code",
   "execution_count": 8,
   "metadata": {
    "collapsed": false,
    "deletable": true,
    "editable": true
   },
   "outputs": [
    {
     "name": "stdout",
     "output_type": "stream",
     "text": [
      "(12, 48, -12)\n",
      "6 6 -6\n"
     ]
    }
   ],
   "source": [
    "# 반환 값을 변수에 넣어보는 연습도 해본다.\n",
    "\n",
    "print (sum_and_mul_and_sub(2, 4, 6))\n",
    "x, y, z = sum_and_mul_and_sub(1, 2, 3)\n",
    "print (x, y, z)"
   ]
  },
  {
   "cell_type": "markdown",
   "metadata": {
    "deletable": true,
    "editable": true
   },
   "source": [
    " - Return은 함수를 빠져나가려고 할 때 사용되기도 한다.\n",
    " \n",
    " ### 입력 값에 초기값 설정\n",
    " - def 함수명(입력인수=초기값) :\n",
    " - 　　　<수행할 문장>"
   ]
  },
  {
   "cell_type": "code",
   "execution_count": 10,
   "metadata": {
    "collapsed": false,
    "deletable": true,
    "editable": true
   },
   "outputs": [
    {
     "name": "stdout",
     "output_type": "stream",
     "text": [
      "Dave genius\n",
      "Dava fool\n"
     ]
    }
   ],
   "source": [
    "# 입력 값에 초기값 설정.\n",
    "\n",
    "def say_name_nick(name, nick = 'genius') :\n",
    "    print (name, nick)\n",
    "    \n",
    "say_name_nick('Dave')\n",
    "say_name_nick('Dava', 'fool')"
   ]
  },
  {
   "cell_type": "markdown",
   "metadata": {
    "deletable": true,
    "editable": true
   },
   "source": [
    "### 함수의 지역 변수\n",
    " - 지역 변수 : 함수 내에서 선언된 변수, 혹은 함수의 입력.\n",
    " - 값이 복사되서 넘어가는 것이기 때문에 함수 안에 있는 변수와 바깥에 있는 변수의 이름이 서로 같아도 다르게 취급된다.\n",
    " \n",
    "### 전역 변수\n",
    " - 전역 변수 : 어떤 영역 내에서도 접근 가능한 함수.\n",
    " - 함수 안에서 전역 변수를 사용하고 싶을 때 global을 사용한다.\n",
    " - ex) global a\n",
    " \n",
    "### 함수의 입력인수 전달방식\n",
    " - 1) 입력 인수의 타입이 immutable인 경우 (정수, 실수, 문자열, 튜플, ...)\n",
    " - 　 Call-by-value와 동일 -> 함수 내에서 바뀐 결과가 원래의 입력 변수에 반영되지 않는다.\n",
    " - 2) 입력 인수의 타입이 mutable인 경우 (리스트, 딕셔너리)\n",
    " - 값을 건드는 것이 아니라 주소를 가리키는 방식.\n",
    " - 　 Call-by-reference와 동일 -> 함수 내에서 바뀐 결과가 원래의 입력 변수에 반영된다.\n",
    " \n",
    "### 함수는 객체(Object)이다.\n",
    " #### 함수는 다른 변수와 똑같이 취급될 수 있다.\n",
    " - C에서의 함수 포인터와 동일.\n",
    " - 함수는 변수에 배정(assign)할 수 있다.\n",
    " - 함수는 인수로 다른 함수에 전달할 수 있다.\n",
    " - 다른 함수로부터 함수는 리턴 될 수 있다.\n",
    " - def 문은 함수 몸체를 변수(함수이름)에 할당하는 것이다."
   ]
  },
  {
   "cell_type": "code",
   "execution_count": 20,
   "metadata": {
    "collapsed": false,
    "deletable": true,
    "editable": true
   },
   "outputs": [
    {
     "name": "stdout",
     "output_type": "stream",
     "text": [
      "1 2\n",
      "1 2 3\n",
      "None\n",
      "1 2\n",
      "None\n"
     ]
    }
   ],
   "source": [
    "# 함수를 변수에 배정해본다.\n",
    "\n",
    "def foo2(a, b) :\n",
    "    print (a, b)\n",
    "\n",
    "x = foo\n",
    "print (1, 2)\n",
    "print (x (1, 2, 3))\n",
    "\n",
    "x = foo2\n",
    "print (x (1, 2))"
   ]
  },
  {
   "cell_type": "code",
   "execution_count": 12,
   "metadata": {
    "collapsed": false,
    "deletable": true,
    "editable": true
   },
   "outputs": [
    {
     "data": {
      "text/plain": [
       "<function __main__.foo>"
      ]
     },
     "execution_count": 12,
     "metadata": {},
     "output_type": "execute_result"
    }
   ],
   "source": [
    "x"
   ]
  },
  {
   "cell_type": "code",
   "execution_count": 13,
   "metadata": {
    "collapsed": false,
    "deletable": true,
    "editable": true
   },
   "outputs": [
    {
     "data": {
      "text/plain": [
       "9"
      ]
     },
     "execution_count": 13,
     "metadata": {},
     "output_type": "execute_result"
    }
   ],
   "source": [
    "# 함수는 인수로 다른 함수에 전달할 수 있다.\n",
    "\n",
    "def foo3(f, a) :\n",
    "    return f(a)\n",
    "\n",
    "def square(x) :\n",
    "    return x * x\n",
    "\n",
    "foo3(square, 3)"
   ]
  },
  {
   "cell_type": "code",
   "execution_count": 16,
   "metadata": {
    "collapsed": false,
    "deletable": true,
    "editable": true
   },
   "outputs": [
    {
     "name": "stdout",
     "output_type": "stream",
     "text": [
      "<function foo4.<locals>.bar at 0x0336C978>\n",
      "5\n"
     ]
    }
   ],
   "source": [
    "# 다른 함수로부터 함수는 리턴 될 수 있다.\n",
    "# 주소를 리턴한다고 생각하면 편하다.\n",
    "\n",
    "def foo4(a) :\n",
    "    def bar(b) :\n",
    "        return a + b\n",
    "    return bar\n",
    "\n",
    "f = foo4(3)\n",
    "print (f)\n",
    "print (f(2))"
   ]
  },
  {
   "cell_type": "markdown",
   "metadata": {
    "deletable": true,
    "editable": true
   },
   "source": [
    "### 이름 없는 함수(anonymous function)\n",
    " - 람다 표현식(lambda expression) 은 함수 객체를 리턴.\n",
    " - 람다 표현식의 몸체는 단순한 수식만 가능하다."
   ]
  },
  {
   "cell_type": "code",
   "execution_count": 17,
   "metadata": {
    "collapsed": false,
    "deletable": true,
    "editable": true
   },
   "outputs": [
    {
     "name": "stdout",
     "output_type": "stream",
     "text": [
      "5\n"
     ]
    }
   ],
   "source": [
    "# 이름 없는 함수 실습.\n",
    "\n",
    "f = lambda x, y : x + y\n",
    "print (f(2, 3))"
   ]
  },
  {
   "cell_type": "markdown",
   "metadata": {
    "deletable": true,
    "editable": true
   },
   "source": [
    "### Higher-Order Functions\n",
    "#### map(func, seq)\n",
    " - input 데이터를 동일 함수에 반복적으로 적용시켜 주는 역할을 한다.\n",
    " - map(함수, iterable 데이터형 자료)\n",
    " - 일반적으로 데이터에 어떠한 변형을 주는 연산을 하는 것이다.\n",
    " \n",
    "#### filter(bool_func, seq)\n",
    " - 필요없는 데이터를 걸러내기 위하여 사용하는 함수이다.\n",
    " - 논리연산을 통해 나온 참/거짓에 따라 데이터를 필터링한다.\n",
    " - filter(조건함수, 자료)\n",
    " \n",
    "#### reduce(func, seq)\n",
    " - 주로 iterable 자료형 데이터를 특정 함수에 반복적으로 적용하여 원하는 결과값이 선택적으로 나오도록 활용한다.\n",
    " - 최종 결과를 list나 tuple 등의 자료형으로 반환하는 대신 단 하나의 값만을 구하고자 할 때 주로 사용된다."
   ]
  },
  {
   "cell_type": "code",
   "execution_count": 67,
   "metadata": {
    "collapsed": false,
    "deletable": true,
    "editable": true
   },
   "outputs": [
    {
     "name": "stdout",
     "output_type": "stream",
     "text": [
      "[0, 1, 2, 3, 4, 5, 6, 7, 8, 9]\n",
      "[0, 2, 4, 6, 8, 10, 12, 14, 16, 18]\n"
     ]
    }
   ],
   "source": [
    "# map 사용해보기.\n",
    "\n",
    "def double(x) :\n",
    "    return 2 * x\n",
    "\n",
    "lst = list(range(10))\n",
    "print (lst)\n",
    "\n",
    "print (list(map(double, lst)))"
   ]
  },
  {
   "cell_type": "code",
   "execution_count": 65,
   "metadata": {
    "collapsed": false,
    "deletable": true,
    "editable": true
   },
   "outputs": [
    {
     "name": "stdout",
     "output_type": "stream",
     "text": [
      "[0, 1, 2, 3, 4, 5, 6, 7, 8, 9]\n",
      "[0, 2, 4, 6, 8]\n"
     ]
    }
   ],
   "source": [
    "# filter 사용해보기.\n",
    "\n",
    "def even(x) :\n",
    "    return (x % 2 == 0)\n",
    "\n",
    "lst = list(range(10))\n",
    "print (lst)\n",
    "\n",
    "print (list(filter(even, lst)))"
   ]
  },
  {
   "cell_type": "code",
   "execution_count": 76,
   "metadata": {
    "collapsed": false,
    "deletable": true,
    "editable": true
   },
   "outputs": [
    {
     "name": "stdout",
     "output_type": "stream",
     "text": [
      "[0, 1, 2, 3, 4, 5, 6, 7, 8, 9]\n",
      "45\n"
     ]
    }
   ],
   "source": [
    "import functools\n",
    "\n",
    "# reduce 사용해보기.\n",
    "\n",
    "def plus(x, y) :\n",
    "    return (x + y)\n",
    "\n",
    "lst = list(range(10))\n",
    "print (lst)\n",
    "\n",
    "print (functools.reduce(plus, lst))"
   ]
  },
  {
   "cell_type": "markdown",
   "metadata": {
    "deletable": true,
    "editable": true
   },
   "source": [
    "- 파이썬이 3.x 버전으로 넘어오면서 그렇게 된 것인지는 모르겠지만 higher-order function이 강의자료대로 제대로 동작하지 않는 문제가 발생했다.\n",
    "- map과 filter 함수의 경우에는 list로 형변환을 했더니 원하는 결과대로 출력되었고,\n",
    "- reduce의 경우에는 functools를 import한 뒤 functools.reduce 함수를 사용하였더니 제대로 출력되었다."
   ]
  }
 ],
 "metadata": {
  "kernelspec": {
   "display_name": "Python 3",
   "language": "python",
   "name": "python3"
  },
  "language_info": {
   "codemirror_mode": {
    "name": "ipython",
    "version": 3
   },
   "file_extension": ".py",
   "mimetype": "text/x-python",
   "name": "python",
   "nbconvert_exporter": "python",
   "pygments_lexer": "ipython3",
   "version": "3.6.0"
  }
 },
 "nbformat": 4,
 "nbformat_minor": 2
}

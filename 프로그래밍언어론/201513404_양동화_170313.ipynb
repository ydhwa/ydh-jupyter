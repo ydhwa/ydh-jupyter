{
 "cells": [
  {
   "cell_type": "code",
   "execution_count": 38,
   "metadata": {
    "collapsed": false,
    "deletable": true,
    "editable": true
   },
   "outputs": [
    {
     "name": "stdout",
     "output_type": "stream",
     "text": [
      "x의 값을 입력해주세요: 3\n",
      "y의 값은 45 입니다.\n"
     ]
    }
   ],
   "source": [
    "# x값을 입력 받아 2차 방정식의 y값을 계산하는 프로그램.\n",
    "\n",
    "x = int(input (\"x의 값을 입력해주세요: \"))\n",
    "y = 3 * x ** 2 + 5 * x + 3\n",
    "print (\"y의 값은\", y, \"입니다.\")"
   ]
  },
  {
   "cell_type": "code",
   "execution_count": 39,
   "metadata": {
    "collapsed": false,
    "deletable": true,
    "editable": true
   },
   "outputs": [
    {
     "name": "stdout",
     "output_type": "stream",
     "text": [
      "원의 반지름을 입력해주세요: 4\n",
      "원의 둘레는 25.12 이고, 원의 넓이는 50.24 입니다.\n"
     ]
    }
   ],
   "source": [
    "# 반지름을 입력 받아 원의 둘레와 넓이를 구하는 프로그램.\n",
    "\n",
    "r = int(input (\"원의 반지름을 입력해주세요: \"))\n",
    "pi = 3.14\n",
    "circum = 2 * pi * r\n",
    "extent = pi * r ** 2\n",
    "print (\"원의 둘레는\", circum, \"이고, 원의 넓이는\", extent, \"입니다.\")"
   ]
  },
  {
   "cell_type": "markdown",
   "metadata": {
    "deletable": true,
    "editable": true
   },
   "source": [
    "# 프로그래밍 언어론 2주차 실습\n",
    "\n",
    "- python 변수는 선언문이 없다. 변수에 들어가는 값에 맞는 자료형을 부여한다.\n",
    "- input은 기본적으로 문자열을 입력받는다. input으로 다른 자료형을 입력 받고 싶으면 형변환이 필요하다.\n",
    "\n",
    "## 자료형과 형변환\n",
    "- 나머지는 전부 자바의 기본 자료형과 비슷하지만, 불리언형의 경우 0은 False, 그 외의 나머지 값은 전부 True이다.\n",
    "- 자료형을 확인하고 싶으면 type()을 사용한다.\n",
    "- 복소수의 경우 python에서는 i가 아닌 j로 표현한다.\n",
    "### 실수를 정수로 변환\n",
    "- 변환할 경우 소수점 밑의 수들이 없어진다.\n",
    "- round() 함수를 사용하여 반올림을 할 수 있다. round는 자신이 원하는 자리에서 반올림이 가능하기도 하다.\n",
    "### 문자열을 정수/실수로 변환\n",
    "- 간단하게 형변환하여 변환할 수 있으나, 표현할 수 없는 문자를 포함한 경우 형변환이 불가능하다.\n",
    "### String 자료형\n",
    "- 여러 줄에 걸쳐진 문자열들을 보이는 대로 인식하도록 하고 싶으면 \"\"\" ~ \"\"\"을 사용한다.\n",
    "- \"을 출력하게 하도록 하고 싶으면 ' \" '. single quatation을 사용하거나 \\. backslash를 사용한다.\n",
    "- 문자열의 경우 C언어와는 다르게 문자열의 맨 끝에 널 문자가 들어가지 않는다.\n",
    "- String은 내용을 바꿀 수 없다! == indexing으로 바꿀 수 없다는 뜻이다. (31s)\n",
    "#### String indexing & slicing\n",
    "- 범위 설정 (이상(포함):미만(미포함))\n",
    "#### String formatting\n",
    "   - ex) \"I eat 3 apples.\"\n",
    "   - \"I eat {포맷 형식} apples.\". format(넣고자 하는 값)\n",
    "\n",
    "## 연산 관련 보충\n",
    "- 제곱 하고 싶으면 a \\*\\* b\n",
    "- 3 / 4를 했을 경우 0이 나온다. 3.x대의 경우 0.75가 제대로 나온다고 한다. 확인 결과 제대로 0.75가 출력됨을 알 수 있었다.\n",
    "\n",
    "## 배열\n",
    "-  0  1  2  3  4\n",
    "- -5 -4 -3 -2 -1"
   ]
  },
  {
   "cell_type": "code",
   "execution_count": 1,
   "metadata": {
    "collapsed": false
   },
   "outputs": [
    {
     "name": "stdout",
     "output_type": "stream",
     "text": [
      "3\n"
     ]
    }
   ],
   "source": [
    "print (round(3.14))"
   ]
  },
  {
   "cell_type": "code",
   "execution_count": 2,
   "metadata": {
    "collapsed": false,
    "deletable": true,
    "editable": true
   },
   "outputs": [
    {
     "name": "stdout",
     "output_type": "stream",
     "text": [
      "True\n",
      "False\n",
      "<class 'float'> 3.14\n",
      "<class 'int'> 3\n",
      "hello\n",
      "world\n",
      "0.75\n"
     ]
    }
   ],
   "source": [
    "print (bool (-1))\n",
    "print (bool (0))\n",
    "a = 3.14\n",
    "print (type (a), a)\n",
    "a = int (a)\n",
    "print (type (a), a)\n",
    "print (\"\"\"hello\n",
    "world\"\"\")\n",
    "print (3 / 4)"
   ]
  },
  {
   "cell_type": "code",
   "execution_count": 5,
   "metadata": {
    "collapsed": false,
    "deletable": true,
    "editable": true
   },
   "outputs": [
    {
     "name": "stdout",
     "output_type": "stream",
     "text": [
      "abc five def\n",
      "abc 3 def\n",
      "abc 3.14 def\n",
      "abc 1.414 def\n"
     ]
    }
   ],
   "source": [
    "print (\"abc {0:s} def\". format(\"five\"))\n",
    "print (\"abc {0:d} def\". format(3))\n",
    "print (\"abc {0:.2f} def\". format(3.141592))\n",
    "\n",
    "print (\"abc {0:.3f} def\". format(1.41422222))"
   ]
  },
  {
   "cell_type": "code",
   "execution_count": 21,
   "metadata": {
    "collapsed": false,
    "deletable": true,
    "editable": true
   },
   "outputs": [
    {
     "name": "stdout",
     "output_type": "stream",
     "text": [
      "I have 3 apples\n",
      "Todays rate is 3.234\n"
     ]
    }
   ],
   "source": [
    "print (\"I have {0:d} apples\". format(3))\n",
    "print (\"Todays rate is {0:.3f}\". format(3.234))"
   ]
  },
  {
   "cell_type": "code",
   "execution_count": 40,
   "metadata": {
    "collapsed": false,
    "deletable": true,
    "editable": true
   },
   "outputs": [
    {
     "name": "stdout",
     "output_type": "stream",
     "text": [
      "문자열을 입력하세요: abc def\n",
      "efg bcd "
     ]
    }
   ],
   "source": [
    "# 입력 받은 문자열을 암호화하는 프로그램.\n",
    "\n",
    "import sys\n",
    "str = input (\"문자열을 입력하세요: \")\n",
    "list = str.split(\" \")\n",
    "list.reverse()\n",
    "newStr = \"\"\n",
    "for i in list :\n",
    "    newStr = newStr + i\n",
    "    newStr = newStr + \" \"\n",
    "for i in newStr :\n",
    "    tmp = ord(i)\n",
    "    if tmp != 32 :\n",
    "        tmp = tmp + 1\n",
    "    sys.stdout.write(chr(tmp))"
   ]
  },
  {
   "cell_type": "markdown",
   "metadata": {
    "deletable": true,
    "editable": true
   },
   "source": [
    "## 암호화 프로그램에서 사용한 기능\n",
    "### 아스키 코드 <-> 문자열\n",
    "- 아스키 코드 -> 문자열: chr(...)\n",
    "- 문자열 -> 아스키 코드: ord(...)\n",
    "### for문\n",
    "- for 변수 in 리스트나 배열 : ...\n",
    "- 여기서 변수의 자료형은 int형이 아니라 리스트나 배열의 원소들. for each문과 비슷하게 생각하면 될 것 같다.\n",
    "### 개행 없이 문자 출력하는 방법\n",
    "- 1) 먼저 import sys를 사용한다.\n",
    "- 2) sys.stdout.write(...)을 사용한다.\n",
    "- 이것은 \"표준 출력\"으로 직접 출력하는 것이다.\n",
    "### List\n",
    "- 리스트에 원소를 넣을 때는 새로운 원소가 맨 앞에 추가되는 형식으로 들어가진다.\n",
    "- 리스트명.reverse()를 통해 순서를 뒤집을 수 있다."
   ]
  },
  {
   "cell_type": "code",
   "execution_count": 1,
   "metadata": {
    "collapsed": false,
    "deletable": true,
    "editable": true
   },
   "outputs": [
    {
     "name": "stdout",
     "output_type": "stream",
     "text": [
      "암호문을 입력하세요: efg bcd\n",
      "abc def "
     ]
    }
   ],
   "source": [
    "# 입력 받은 문자열을 복호화하는 프로그램.\n",
    "\n",
    "import sys\n",
    "str = input (\"암호문을 입력하세요: \")\n",
    "newStr = \"\"\n",
    "for i in str :\n",
    "    tmp = ord(i)\n",
    "    if tmp != 32 :\n",
    "        tmp = tmp - 1\n",
    "    newStr = newStr + chr(tmp)\n",
    "list = newStr.split(\" \")\n",
    "list.reverse()\n",
    "for i in list :\n",
    "    sys.stdout.write(i + \" \")"
   ]
  }
 ],
 "metadata": {
  "kernelspec": {
   "display_name": "Python 3",
   "language": "python",
   "name": "python3"
  },
  "language_info": {
   "codemirror_mode": {
    "name": "ipython",
    "version": 3
   },
   "file_extension": ".py",
   "mimetype": "text/x-python",
   "name": "python",
   "nbconvert_exporter": "python",
   "pygments_lexer": "ipython3",
   "version": "3.6.0"
  }
 },
 "nbformat": 4,
 "nbformat_minor": 2
}

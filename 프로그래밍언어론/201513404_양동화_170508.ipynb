{
 "cells": [
  {
   "cell_type": "markdown",
   "metadata": {},
   "source": [
    "# 프로그래밍 언어론 10주차 실습\n",
    "## 파이썬의 클래스와 모듈\n",
    "###  클래스(Class)란?\n",
    "- 함수나 변수들을 모아놓은 집합체.\n",
    "- 구조체 개념 -> 자료와 함수를 합친 개념.\n",
    "- 붕어빵 틀에 비유. (붕어빵 = instance)\n",
    "- instance란 class가 memory에 올라가 있는 상태.\n",
    "-----------------\n",
    "- 파이썬에서 작성법:\n",
    "-     class 클래스명\n",
    "-       (indentation을 한 후 그 안에 함수 및 변수를 써 넣는다.)\n",
    "-       def 함수명(self, 변수들):\n",
    "-          함수 내용(self는 java의 this에 해당. 자기 객체를 가리킨다. 무조건 명시해야 함. 클래스에서 함수 호출 시 이 부분은 알아서 들어가므로 이 부분을 제외하고 남은 부분에 파라미터를 넣어주어야 한다.)\n",
    "- ---------------\n",
    "- 생성자: 변수 = 클래스명()"
   ]
  },
  {
   "cell_type": "code",
   "execution_count": 7,
   "metadata": {
    "collapsed": true
   },
   "outputs": [],
   "source": [
    "# -*- coding: cp949 -*-\n",
    "# 위의 문장은 한글 안 깨지게 하는 기능을 함. 파이썬 2.대에서 사용.\n",
    "# 클래스 연습.\n",
    "\n",
    "class Service:\n",
    "    def sum(self, a, b):\n",
    "        result = a + b\n",
    "        print (\"%s + %s = %s 입니다.\" % (a, b, result))"
   ]
  },
  {
   "cell_type": "code",
   "execution_count": 12,
   "metadata": {},
   "outputs": [
    {
     "name": "stdout",
     "output_type": "stream",
     "text": [
      "<class 'type'>\n",
      "<class '__main__.Service'>\n",
      "1 + 2 = 3 입니다.\n"
     ]
    }
   ],
   "source": [
    "print (type(Service))\n",
    "\n",
    "# class의 type는 class obj.\n",
    "pey = Service()\n",
    "# class를 pey에 선언한 뒤 class의 type은 instance.\n",
    "print (type(pey))\n",
    "\n",
    "# 클래스의 메소드 호출.\n",
    "pey.sum(1, 2)"
   ]
  },
  {
   "cell_type": "markdown",
   "metadata": {},
   "source": [
    "### self\n",
    "- self를 사용해야 객체의 함수로 사용할 수 있다.\n",
    "\n",
    "#### self란?\n",
    "- class에서 정의된 method는 class가 객체화 되면서 instance method라 함.\n",
    "- instance method는 첫 번째 인수로 넘어오는 class의 instance에 대해\n",
    "작동하는 함수임.\n",
    "- 즉, method를 호출하는 instance에 대해 명시해주는 것.\n",
    "- self가 이런 역할을 해줌.\n",
    "- 따라서 instance method를 사용하기 위해선 첫 번째 인자는 무조건 self이어야 함."
   ]
  },
  {
   "cell_type": "code",
   "execution_count": 54,
   "metadata": {
    "collapsed": true
   },
   "outputs": [],
   "source": [
    "class Calc:\n",
    "    def sum(self, a, b):\n",
    "        result = a + b\n",
    "        print (\"{0:d} + {1:d} = {2:d} 입니다.\".format(a, b, result))\n",
    "    def sub(self, a, b):\n",
    "        result = a - b\n",
    "        print (\"{0:d} - {1:d} = {2:d} 입니다.\".format(a, b, result))\n",
    "    def mul(self, a, b):\n",
    "        result = a * b\n",
    "        print (\"{0:d} * {1:d} = {2:d} 입니다.\".format(a, b, result))\n",
    "    def div(self, a, b):\n",
    "        result = a / b\n",
    "        print (\"{0:d} / {1:d} = {2:.0f} 입니다.\".format(a, b, result))"
   ]
  },
  {
   "cell_type": "code",
   "execution_count": 55,
   "metadata": {},
   "outputs": [
    {
     "name": "stdout",
     "output_type": "stream",
     "text": [
      "1 + 2 = 3 입니다.\n",
      "5 - 1 = 4 입니다.\n",
      "2 * 3 = 6 입니다.\n",
      "6 / 2 = 3 입니다.\n"
     ]
    }
   ],
   "source": [
    "calc = Calc()\n",
    "calc.sum(1, 2)\n",
    "calc.sub(5, 1)\n",
    "calc.mul(2, 3)\n",
    "calc.div(6, 2)"
   ]
  },
  {
   "cell_type": "markdown",
   "metadata": {},
   "source": [
    "### Class 내 연산자 함수\n",
    "- \\__init\\__: 생성자(Constructor): 인스턴스가 만들어 질 때 호출\n",
    "- \\__del\\__: 소멸자(Destructor): 인스턴스가 사라질 때 호출\n",
    "- \\__add\\__: 연산자 \"+\"     ex) x + y\n",
    "- \\__or\\__: 연산자 \"|\"     ex) x | y\n",
    "- \\__repr\\__: print     ex) print (x)\n",
    "- \\__call\\__: 함수호출 X()했을 때 호출\n",
    "- \\__getattr\\__: 자격부여     ex) x.method\n",
    "- \\__getitem\\__: 인덱싱     ex) x[i]\n",
    "- \\__setitem\\__: 인덱스 치환     ex) x[key] = value\n",
    "- \\__getslice\\__: 슬라이싱     ex) x[i:j]\n",
    "- \\__cmp\\__: 비교     ex) x > y\n",
    "\n",
    "#### 용도에 맞는 함수를 찾아 override해서 사용한다."
   ]
  },
  {
   "cell_type": "markdown",
   "metadata": {},
   "source": [
    "### Class: \\__init\\__\n",
    "- 넘겨 받은 인자로 생성자를 초기화할 때 사용한다.\n",
    "- 일반적인 함수 호출과 다르게 self 인자를 넣어야 한다.\n",
    "\n",
    "### Class: \\__del\\__\n",
    "- 실행 중인 instance를 소멸시킬 수 있다.\n",
    "\n",
    "#### heap에다가 메모리를 잡을 경우(new) 소멸자에 초기화를 해줘야 한다 (?) . C++는 이러한 것들을 반드시 해야 하고, Java는 가비지 콜렉터가 있어서 이런 것을 굳이 하지는 않는다. 하지만 해야 메모리 효율이 좋아진다."
   ]
  },
  {
   "cell_type": "markdown",
   "metadata": {},
   "source": [
    "### Inheritance (상속)\n",
    "- Inheritance(상속)은 기존 class의 작동 방식을 특수화하거나 변경하기 위해 새로운 class를 만드는 매커니즘이다.\n",
    "- 나한테 없으면 부모에게 간다."
   ]
  },
  {
   "cell_type": "code",
   "execution_count": 3,
   "metadata": {},
   "outputs": [],
   "source": [
    "# 상속 실습.\n",
    "\n",
    "class HouseKim:\n",
    "    lastname = \"김\"\n",
    "    fullname = \"\"\n",
    "    def __init__(self, name):\n",
    "        self.fullname = self.lastname + name\n",
    "    def travel(self, where):\n",
    "        print (\"{0:s}, {1:s} 여행을 가다.\".format(self.fullname, where))\n",
    "\n",
    "class HousePark(HouseKim):\n",
    "    lastname = \"박\"\n",
    "    def travel(self, where, day):\n",
    "        print (\"{0:s}, {1:s} 여행 {2:d}일 가네.\".format(self.fullname, where, day))"
   ]
  },
  {
   "cell_type": "code",
   "execution_count": 4,
   "metadata": {},
   "outputs": [
    {
     "name": "stdout",
     "output_type": "stream",
     "text": [
      "김대리, 해외 여행을 가다.\n"
     ]
    }
   ],
   "source": [
    "kim = HouseKim(\"대리\")\n",
    "kim.travel(\"해외\")"
   ]
  },
  {
   "cell_type": "code",
   "execution_count": 5,
   "metadata": {},
   "outputs": [
    {
     "name": "stdout",
     "output_type": "stream",
     "text": [
      "박천음, 독도 여행 3일 가네.\n"
     ]
    }
   ],
   "source": [
    "park = HousePark(\"천음\")\n",
    "park.travel(\"독도\", 3)"
   ]
  }
 ],
 "metadata": {
  "kernelspec": {
   "display_name": "Python 3",
   "language": "python",
   "name": "python3"
  },
  "language_info": {
   "codemirror_mode": {
    "name": "ipython",
    "version": 3
   },
   "file_extension": ".py",
   "mimetype": "text/x-python",
   "name": "python",
   "nbconvert_exporter": "python",
   "pygments_lexer": "ipython3",
   "version": "3.6.1"
  }
 },
 "nbformat": 4,
 "nbformat_minor": 2
}

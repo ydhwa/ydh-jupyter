{
 "cells": [
  {
   "cell_type": "code",
   "execution_count": 86,
   "metadata": {
    "collapsed": false,
    "deletable": true,
    "editable": true
   },
   "outputs": [
    {
     "name": "stdout",
     "output_type": "stream",
     "text": [
      "9\n",
      "10\n"
     ]
    }
   ],
   "source": [
    "# 문제 1.\n",
    "# 정수의 자릿수 합을 계산하는 함수.\n",
    "\n",
    "def sumDigits (n):\n",
    "    sumD = 0\n",
    "    while n != 0:\n",
    "        sumD = sumD + n % 10\n",
    "        n = n // 10\n",
    "    return sumD\n",
    "\n",
    "print (sumDigits(234))\n",
    "print (sumDigits(1234))"
   ]
  },
  {
   "cell_type": "code",
   "execution_count": 85,
   "metadata": {
    "collapsed": false,
    "deletable": true,
    "editable": true
   },
   "outputs": [
    {
     "name": "stdout",
     "output_type": "stream",
     "text": [
      "2.4 3 5 \n",
      "1 2 3 4 5 \n"
     ]
    }
   ],
   "source": [
    "# 문제 2.\n",
    "# n개의 숫자를 오름차순으로 정렬하는 함수.\n",
    "import copy\n",
    "\n",
    "def displaySortedNumbers (*num):\n",
    "    lst = []\n",
    "    s = \"\"\n",
    "    for i in num:\n",
    "        lstCopy = copy.deepcopy(lst)\n",
    "        if not lst:\n",
    "            lst.insert(0, i)\n",
    "        else:\n",
    "            for j in lstCopy:\n",
    "                index = lst.index(j)\n",
    "                if i < j:\n",
    "                    break\n",
    "                index = index + 1\n",
    "            lst.insert(index, i)\n",
    "    for k in lst:\n",
    "        s += str(k) + ' '\n",
    "    return s\n",
    "\n",
    "print (displaySortedNumbers(3, 2.4, 5))\n",
    "\n",
    "print (displaySortedNumbers(5, 1, 4, 3, 2))"
   ]
  },
  {
   "cell_type": "code",
   "execution_count": 83,
   "metadata": {
    "collapsed": false
   },
   "outputs": [
    {
     "name": "stdout",
     "output_type": "stream",
     "text": [
      "i\t\t\t\t\tm(i)\n",
      "1\t\t\t\t\t4.0000\n",
      "101\t\t\t\t\t3.1515\n",
      "201\t\t\t\t\t3.1466\n",
      "301\t\t\t\t\t3.1449\n",
      "401\t\t\t\t\t3.1441\n",
      "501\t\t\t\t\t3.1436\n",
      "601\t\t\t\t\t3.1433\n",
      "701\t\t\t\t\t3.1430\n",
      "801\t\t\t\t\t3.1428\n",
      "901\t\t\t\t\t3.1427\n"
     ]
    }
   ],
   "source": [
    "# 문제 3.\n",
    "# 주어진 j에 대해 m(i)를 반환하는 함수를 작성하고, 다음 표를 출력하는 테스트 프로그램 작성.\n",
    "\n",
    "def m(i):\n",
    "    sumM = 0\n",
    "    flag = 0 # 0이면 짝수, 1이면 홀수.\n",
    "    j = 0 # 더해질 분수.\n",
    "    for i in range(1, 2 * i, 2):\n",
    "        j = 1.0 / i\n",
    "        if flag == 1:\n",
    "            j = 0 - j\n",
    "            flag = 0\n",
    "        else:\n",
    "            flag = 1\n",
    "        sumM = sumM + j\n",
    "    return sumM * 4\n",
    "\n",
    "print (\"i\\t\\t\\t\\t\\tm(i)\")\n",
    "for i in range(1, 1001, 100):\n",
    "    print (\"%d\\t\\t\\t\\t\\t%.4f\"%(i, m(i)))"
   ]
  }
 ],
 "metadata": {
  "kernelspec": {
   "display_name": "Python 3",
   "language": "python",
   "name": "python3"
  },
  "language_info": {
   "codemirror_mode": {
    "name": "ipython",
    "version": 3
   },
   "file_extension": ".py",
   "mimetype": "text/x-python",
   "name": "python",
   "nbconvert_exporter": "python",
   "pygments_lexer": "ipython3",
   "version": "3.6.0"
  }
 },
 "nbformat": 4,
 "nbformat_minor": 2
}

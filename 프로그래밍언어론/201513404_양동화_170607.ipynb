{
 "cells": [
  {
   "cell_type": "markdown",
   "metadata": {},
   "source": [
    "# 프로그래밍 언어론 14주차 실습"
   ]
  },
  {
   "cell_type": "code",
   "execution_count": 222,
   "metadata": {
    "collapsed": false
   },
   "outputs": [
    {
     "name": "stdout",
     "output_type": "stream",
     "text": [
      "암호를 입력하시오: fsdate46atagga#\n",
      "암호가 아닙니다.\n"
     ]
    }
   ],
   "source": [
    "##### 문제 1.\n",
    "# 입력한 문자열이 다음 조건에 맞는 암호인지 검사하는 프로그램.\n",
    "# 암호는 최소한 8개의 문자를 가져야 한다.\n",
    "# 암호는 문자와 숫자로 구성되어 있다.\n",
    "# 암호는 최소한 두 개의 숫자를 가지고 있어야 한다.\n",
    "\n",
    "import re\n",
    "from operator import eq\n",
    "\n",
    "cryptography = input (\"암호를 입력하시오: \")\n",
    "\n",
    "# 일단 문자와 숫자로만 이루어졌는지 확인.\n",
    "if (len(cryptography) == len((re.findall('[0-9a-zA-Z]', cryptography)))):\n",
    "    isCrypto = True\n",
    "# 문자가 8개 이상 나오지 않은 경우\n",
    "# 암호의 조건에 맞지 않으므로 플래그 변수를 False로 설정한다.\n",
    "if len(re.findall('[a-zA-Z]', cryptography)) < 8:\n",
    "    isCrypto = False\n",
    "# 숫자가 2개 이상 나오지 않은 경우\n",
    "# 암호의 조건에 맞지 않으므로 플래그 변수를 False로 설정한다.\n",
    "if len(re.findall('[0-9]', cryptography)) < 2:\n",
    "    isCrypto = False\n",
    "\n",
    "if isCrypto:\n",
    "    print (\"암호입니다.\")\n",
    "else :\n",
    "    print (\"암호가 아닙니다.\")"
   ]
  },
  {
   "cell_type": "code",
   "execution_count": 1,
   "metadata": {
    "collapsed": false
   },
   "outputs": [
    {
     "name": "stdout",
     "output_type": "stream",
     "text": [
      "3.1414448\n"
     ]
    }
   ],
   "source": [
    "# 문제 2.\n",
    "# Random 함수로 원주율 계산하기.\n",
    "# 가로 1cm, 세로 1cm인 정사각형에 1000만개의 임의의 점을 찍어서 1/4 원의 넓이를 추정.\n",
    "# -> \"빨간 점의 수 / 1000만개\"\n",
    "# \"원의 넓이 = PI * r * r\" 공식을 활용하여 PI를 추정.\n",
    "\n",
    "import random\n",
    "import math\n",
    "\n",
    "# 범위 안에 점이 들어갔을 경우.\n",
    "redcnt = 0\n",
    "\n",
    "# random 함수는 0에서 1 사이의 수를 랜덤으로 뽑아준다.\n",
    "for i in range(10000000):\n",
    "    x = random.random()\n",
    "    y = random.random()\n",
    "    dist = math.sqrt(math.pow(x, 2) + math.pow(y, 2))\n",
    "    if dist < 1:\n",
    "        redcnt = redcnt + 1\n",
    "        \n",
    "# 원의 넓이의 4분의 1인 경우에 점을 찍은 것이므로 4를 곱한다.\n",
    "pie = 4 * (redcnt / 10000000)\n",
    "\n",
    "print (pie)\n"
   ]
  },
  {
   "cell_type": "code",
   "execution_count": 278,
   "metadata": {
    "collapsed": false
   },
   "outputs": [],
   "source": [
    "# 문제 3.\n",
    "# x와 y 좌표를 가진 점을 표현하는 Point 클래스를\n",
    "# 다음 조건에 맞게 설계하고 실행 예제 프로그램을 작성하시오.\n",
    "\n",
    "# 좌표를 나타내는 2개의 private 데이터 필드 x와 y.\n",
    "# 기본 점은 (0, 0)이고 지정된 좌표로 점을 생성해주는 생성자.\n",
    "# Point 타입의 현재 점에서 다른 점까지의 거리를 반환해 주는 distance 메소드.\n",
    "# 두 점의 위치를 더하는 __add__ 메소드.\n",
    "\n",
    "# 제곱근을 구하기 위한 math 모듈 import.\n",
    "import math\n",
    "\n",
    "class Point:\n",
    "    # 기본 점은 (0, 0).\n",
    "    # public / _protected / __private\n",
    "    __x = 0\n",
    "    __y = 0\n",
    "    \n",
    "    # 기본적으로 파이썬에서는 생성자를 여러 개 만들 수 없다고 한다.\n",
    "    # 따라서 한 __init__ 안에 디폴트일 경우와 아닐 경우를 구분지어놓는다.\n",
    "    def __init__(self, x=None, y=None):\n",
    "        # 디폴트 생성자가 아닌 경우.\n",
    "        if x is not None and y is not None:\n",
    "            self.__x = x\n",
    "            self.__y = y\n",
    "        # 확인 차 출력문을 넣는다.\n",
    "        print (\"객체 생성. 좌표: (\" + str(self.__x) + \", \" + str(self.__y) + \")\")\n",
    "        \n",
    "    # 현재 점에서 다른 점까지의 거리를 반환해 주는 메소드.\n",
    "    def distance(self, other):\n",
    "        return math.sqrt(pow(self.__x - other.__x, 2) + pow(self.__y - other.__y, 2))\n",
    "    \n",
    "    # 두 점의 위치를 더하는 __add__ 메소드.\n",
    "    # 연산자 오버로딩.\n",
    "    def __add__(self, other):\n",
    "        newP = Point(self.__x + other.__x, self.__y + other.__y)\n",
    "        return newP\n",
    "    \n",
    "    def __str__(self):\n",
    "        return \"(\" + str(self.__x) + \", \" + str(self.__y) + \")\""
   ]
  },
  {
   "cell_type": "code",
   "execution_count": 282,
   "metadata": {
    "collapsed": false
   },
   "outputs": [
    {
     "name": "stdout",
     "output_type": "stream",
     "text": [
      "1. Point 객체 생성.\n",
      "객체 생성. 좌표: (0, 0)\n",
      "객체 생성. 좌표: (3, 4)\n",
      "\n",
      "2. distance 메소드 테스트.\n",
      "p1과 p2 사이의 거리: 5.0\n",
      "\n",
      "3. __add__ 테스트.\n",
      "객체 생성. 좌표: (3, 4)\n",
      "(3, 4)\n"
     ]
    }
   ],
   "source": [
    "# 실행 예제 프로그램.\n",
    "\n",
    "# 1. Point 객체 생성.\n",
    "# 기본 좌표가 (0, 0)이고 지정된 좌표로도 점이 생성이 되는 것을 확인.\n",
    "print (\"1. Point 객체 생성.\")\n",
    "p1 = Point()\n",
    "p2 = Point(3, 4)\n",
    "print ()\n",
    "\n",
    "# 2. distance 메소드 테스트.\n",
    "print (\"2. distance 메소드 테스트.\")\n",
    "dist = p1.distance(p2)\n",
    "print (\"p1과 p2 사이의 거리:\", dist)\n",
    "print ()\n",
    "\n",
    "# 3. __add__ 테스트.\n",
    "print (\"3. __add__ 테스트.\")\n",
    "p3 = p1 + p2\n",
    "print (str(p3))"
   ]
  }
 ],
 "metadata": {
  "kernelspec": {
   "display_name": "Python 3",
   "language": "python",
   "name": "python3"
  },
  "language_info": {
   "codemirror_mode": {
    "name": "ipython",
    "version": 3
   },
   "file_extension": ".py",
   "mimetype": "text/x-python",
   "name": "python",
   "nbconvert_exporter": "python",
   "pygments_lexer": "ipython3",
   "version": "3.6.0"
  }
 },
 "nbformat": 4,
 "nbformat_minor": 1
}

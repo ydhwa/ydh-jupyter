{
 "cells": [
  {
   "cell_type": "markdown",
   "metadata": {
    "deletable": true,
    "editable": true
   },
   "source": [
    "# 프로그래밍 언어론 3주차 실습\n",
    "\n",
    "## Python 자료형 : List\n",
    "### C언어의 배열과 유사함\n",
    "- 한 가지 자료형만 담을 수 있는 C언어와 다르게 리스트 내에는 어떠한 자료형도 포함할 수 있다.\n",
    "- 리스트 안에 리스트가 들어가 있는경우 : e = [1, 2, ['Life', 'is']]\n",
    "- e[2][0] == 'Life'\n",
    "- a = [1, 2, 3]\n",
    "- a[0] = 1\n",
    "\n",
    "### List는 String과 다르게 내용 수정이 가능하다. (Mutable)\n",
    "- a * 3 == [1, 2, 3, 1, 2, 3, 1, 2, 3]\n",
    "- b = [4, 5, 6]\n",
    "- a + b == [1, 2, 3, 4, 5, 6]\n",
    "\n",
    "### List function\n",
    "- append : 리스트의 마지막에 덧붙임\n",
    "- extend : 리스트를 확장\n",
    "- insert(index, data) : index 자리에 data를 넣는다."
   ]
  },
  {
   "cell_type": "code",
   "execution_count": 44,
   "metadata": {
    "collapsed": false,
    "deletable": true,
    "editable": true
   },
   "outputs": [
    {
     "name": "stdout",
     "output_type": "stream",
     "text": [
      "Numbers? 10 456 87 78\n",
      "Max = 456\n"
     ]
    }
   ],
   "source": [
    "# 숫자열을 입력 받아 최대값을 찾아내는 프로그램 1.\n",
    "\n",
    "num = input(\"Numbers? \")\n",
    "list = num.split(\" \")\n",
    "max = int (list[0])\n",
    "for x in list :\n",
    "    x = int (x)\n",
    "    if x > max :\n",
    "        max = x\n",
    "print (\"Max =\", max)"
   ]
  },
  {
   "cell_type": "code",
   "execution_count": 45,
   "metadata": {
    "collapsed": false,
    "deletable": true,
    "editable": true
   },
   "outputs": [
    {
     "name": "stdout",
     "output_type": "stream",
     "text": [
      "Numbers? 10 456 87 78\n",
      "Max = 456\n"
     ]
    }
   ],
   "source": [
    "# 숫자열을입력 받아 최대값을 찾아내는 프로그램 2.\n",
    "\n",
    "num = input(\"Numbers? \")\n",
    "list = num.split(\" \")\n",
    "newList = []\n",
    "for x in list :\n",
    "    x = int (x)\n",
    "    newList.append(x)\n",
    "newList.sort()\n",
    "newList.reverse()\n",
    "print (\"Max =\", newList[0])"
   ]
  },
  {
   "cell_type": "markdown",
   "metadata": {
    "deletable": true,
    "editable": true
   },
   "source": [
    "## Python 자료형 : Tuple(튜플)\n",
    "\n",
    "### List와 몇 가지 점을 제외하고는모든 것이 같음\n",
    "- List : [] / Tuple : ()\n",
    "- List : Mutable / Tuple : Immutable\n",
    "- List : 보통 대량의 자료 처리 시 사용 / Tuple : 적은 양의 자료 처리 시 사용\n",
    "- 바뀌어서는 안될 자료를 처리할 때 Tuple을 사용함\n",
    "- 빈 Tuple 생성 : tuple = ()\n",
    "- indexing은 String과 List와 같음. tuple[n]\n",
    "- tuple + tuple = concatenation\n",
    "\n",
    "## Python 자료형 : Dictionary\n",
    "### 생성\n",
    "- {key1:value1, key2:value2, key3:value3, ...}\n",
    "- {'a':[1, 2, 3]}\n",
    "- 빈 Dictionary 생성 : dictionary = {}\n",
    "- (중요) 내가 입력한 순서대로 입력되는 것이 아님 -> Hash Function을 통과하여 정해진 순서대로 배치됨.\n",
    "- 호출방법 : dictionary[key]\n",
    "- 생성방법 : a = {1:'a'} -> a[2] = 'b' 이런 식으로 입력해도 가능.\n",
    "- key 값은 중복되어서는 안됨. 같은 것이 존재할 경우 먼저 나온 쌍들이 무시된다.\n",
    "\n",
    "### Dictionary function\n",
    "- a.keys() : key가 담긴 list를 돌려줌\n",
    "- a.items() : a의 (k, v)쌍의 tuple을 모아놓은 list를 돌려줌\n",
    "- if key in dictionary : a에 x라는 키가 있는지 조사. boolean형 반환.\n",
    "\n",
    "## True or False\n",
    "- 값이 비어 있지 않으면 참, 비어 있으면 거짓.\n",
    "\n",
    "## 변수 생성 보충\n",
    "- 각각 변수 a와 b에 값 저장 : a, b = 'python', 'life'\n",
    "- tuple a, b에 값 대입 : (a, b) = ('python', 'life')\n",
    "- a, b = b, a : swap\n",
    "\n",
    "\n",
    "### Lists are mutable\n",
    "- x = [1, 2]\n",
    "- y = x\n",
    "- y.append(3)\n",
    "- 위와 같은 작업을 수행할 시 x = [1, 2, 3]\n",
    "\n",
    "## Mutable or Immutable\n",
    "- Mutable = List, Dictionary\n",
    "- Immutable = String, Tuple"
   ]
  },
  {
   "cell_type": "code",
   "execution_count": 14,
   "metadata": {
    "collapsed": false
   },
   "outputs": [
    {
     "name": "stdout",
     "output_type": "stream",
     "text": [
      "{'a': 'apple', 'b': 'banana', 'c': 'cat', 'd': 'daddy'}\n",
      "dict_items([('a', 'apple'), ('b', 'banana'), ('c', 'cat'), ('d', 'daddy')])\n",
      "dict_keys(['a', 'b', 'c', 'd'])\n",
      "dict_values(['apple', 'banana', 'cat', 'daddy'])\n",
      "pytion life\n",
      "life pytion\n"
     ]
    }
   ],
   "source": [
    "mydic = {'a': 'apple', 'b': 'banana', 'c': 'cat'}\n",
    "mydic['d'] = 'daddy'\n",
    "\n",
    "print (mydic)\n",
    "\n",
    "print (mydic.items())\n",
    "\n",
    "print (mydic.keys())\n",
    "\n",
    "print (mydic.values())\n",
    "\n",
    "(a, b) = ('pytion', 'life')\n",
    "print (a, b)\n",
    "a, b = b, a\n",
    "print (a, b)"
   ]
  },
  {
   "cell_type": "code",
   "execution_count": 1,
   "metadata": {
    "collapsed": false,
    "deletable": true,
    "editable": true
   },
   "outputs": [
    {
     "name": "stdout",
     "output_type": "stream",
     "text": [
      "이름과 전화번호를 입력하세요: 홍길동 010-1234-4567\n",
      "이름과 전화번호를 입력하세요: 안용복 011-4887-7841\n",
      "이름과 전화번호를 입력하세요: 장길산 033-7544-1199\n",
      "3명의 데이터가 모두 입력되었습니다.\n",
      "\n",
      "전화번호를 검색할 사람의 이름을 입력하세요: 안용복\n",
      "011-4887-7841\n"
     ]
    }
   ],
   "source": [
    "# 3명의 이름과 전화번호를 입력 받아 전화번호사전을 만들고,\n",
    "# 이름으로 검색하는 프로그램.\n",
    "\n",
    "book = {}\n",
    "for i in [0, 1, 2] :\n",
    "    list = input(\"이름과 전화번호를 입력하세요: \").split(\" \")\n",
    "    book.update({list[0]:list[1]})\n",
    "print (\"3명의 데이터가 모두 입력되었습니다.\\n\")\n",
    "x = input (\"전화번호를 검색할 사람의 이름을 입력하세요: \")\n",
    "print (book[x])"
   ]
  },
  {
   "cell_type": "code",
   "execution_count": 2,
   "metadata": {
    "collapsed": false,
    "deletable": true,
    "editable": true
   },
   "outputs": [
    {
     "name": "stdout",
     "output_type": "stream",
     "text": [
      "이름을 입력하세요: 홍길동\n",
      "전화번호를 입력하세요: 010-1234-4567\n",
      "이름을 입력하세요: 안용복\n",
      "전화번호를 입력하세요: 011-3245-7459\n",
      "이름을 입력하세요: 장길산\n",
      "전화번호를 입력하세요: 077-5468-4111\n",
      "3명의 데이터가 모두 입력되었습니다.\n",
      "\n",
      "전화번호를 검색할 사람의 이름을 입력하세요: 안용복\n",
      "011-3245-7459\n"
     ]
    }
   ],
   "source": [
    "# 3명의 이름과 전화번호를 입력 받아 전화번호사전을 만들고,\n",
    "# 이름으로 검색하는 프로그램.\n",
    "# 위의 것은 리스트 형태로 입력받았지만\n",
    "# 이번에는 제대로 이름과 전화번호를 입력받아서 사전에 저장한다.\n",
    "\n",
    "book = {}\n",
    "for i in range(3) :\n",
    "    name = input (\"이름을 입력하세요: \")\n",
    "    tel = input (\"전화번호를 입력하세요: \")\n",
    "    book.update({name:tel})\n",
    "print (\"3명의 데이터가 모두 입력되었습니다.\\n\")\n",
    "x = input (\"전화번호를 검색할 사람의 이름을 입력하세요: \")\n",
    "print (book[x])"
   ]
  }
 ],
 "metadata": {
  "kernelspec": {
   "display_name": "Python 3",
   "language": "python",
   "name": "python3"
  },
  "language_info": {
   "codemirror_mode": {
    "name": "ipython",
    "version": 3
   },
   "file_extension": ".py",
   "mimetype": "text/x-python",
   "name": "python",
   "nbconvert_exporter": "python",
   "pygments_lexer": "ipython3",
   "version": "3.6.0"
  }
 },
 "nbformat": 4,
 "nbformat_minor": 2
}

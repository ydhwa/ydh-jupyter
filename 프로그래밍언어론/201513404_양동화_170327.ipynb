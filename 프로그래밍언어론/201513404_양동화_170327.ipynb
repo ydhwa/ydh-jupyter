{
 "cells": [
  {
   "cell_type": "markdown",
   "metadata": {
    "deletable": true,
    "editable": true
   },
   "source": [
    "# 프로그래밍 언어론 4주차 실습\n",
    "\n",
    "## 파이썬의 제어문\n",
    "### if문\n",
    "- if <조건문> :\n",
    "-    <수행할 문장(들여쓰기로 block이 구분됨.)>\n",
    "- elif <조건문> :\n",
    "-    <수행할 문장>\n",
    "- else :\n",
    "-    <수행할 문장>\n",
    "- 들여쓰기 깊이가 같아야 한다.\n",
    "#### 조건문\n",
    "- False(Boolean), 0(숫자), \"\"(문자열), [](리스트), ()(터플), {}(딕셔너리)는 거짓.\n",
    "#### 비교연산자\n",
    "- 조건판단 시 비교 연산자를 쓰는 경우가 훨씬 많음.\n",
    "#### and or not\n",
    "- x or y / x and y / not x\n",
    "#### x in s, x not in s\n",
    "- x in 리스트/터플/문자열\n",
    "- 리스트/터플/문자열 안에 x 원소가 있는가?\n",
    "- not in : 원소 x가 존재하지 않는가?\n",
    "#### etc.\n",
    "- if문 안에 if문을 넣고 싶으면 들여쓰기(indentation)를 더 해서 넣는다.\n",
    "- 특정 조건에서 그냥 넘기고 싶으면 pass를 사용한다.\n",
    "\n",
    "### while문\n",
    "- while <조건문> :\n",
    "-    <수행할 문장>\n",
    "- 빠져나가려면 break 사용.\n",
    "- 조건문으로 돌아가려면 continue.\n",
    "- 무한루프 시키려면 조건문에 1만 써넣기.\n",
    "\n",
    "### for문\n",
    "- for 변수 in 리스트/터플/문자열/딕셔너리 :\n",
    "-   <수행할 문장>\n",
    "- 복사해서 변수 안에 넣는 것이므로 리스트가 바뀌지는 않음.\n",
    "- 여러 번 돌리고 싶을 경우 조건문에 range(n).\n",
    "\n",
    "### range 함수\n",
    "- range(n)\n",
    "- 숫자 리스트를 자동으로 만들어 준다.\n",
    "- 시작과 끝을 정해줄 수도 있다. range(이상, 미만)\n",
    "- 증가 범위도 설정해 줄 수 있다. range(이상, 미만, 증가치(음수도 가능))"
   ]
  },
  {
   "cell_type": "code",
   "execution_count": 2,
   "metadata": {
    "collapsed": false
   },
   "outputs": [
    {
     "name": "stdout",
     "output_type": "stream",
     "text": [
      "100\n",
      "90\n",
      "80\n",
      "70\n",
      "60\n",
      "50\n",
      "40\n",
      "30\n",
      "20\n",
      "10\n"
     ]
    }
   ],
   "source": [
    "for i in range(100, 0, -10) :\n",
    "    print (i)"
   ]
  },
  {
   "cell_type": "code",
   "execution_count": 25,
   "metadata": {
    "collapsed": false,
    "deletable": true,
    "editable": true
   },
   "outputs": [
    {
     "name": "stdout",
     "output_type": "stream",
     "text": [
      "택시를 타고 가라!\n"
     ]
    }
   ],
   "source": [
    "# 0이 아닌 값은 모두 참.\n",
    "\n",
    "money = 5000\n",
    "if money :\n",
    "    print (\"택시를 타고 가라!\")"
   ]
  },
  {
   "cell_type": "code",
   "execution_count": 3,
   "metadata": {
    "collapsed": false,
    "deletable": true,
    "editable": true
   },
   "outputs": [
    {
     "name": "stdout",
     "output_type": "stream",
     "text": [
      "True\n",
      "True\n",
      "True\n"
     ]
    }
   ],
   "source": [
    "print('j' not in 'python')\n",
    "print('a' in ('a', 'b', 'c'))\n",
    "print(\"a\" in ('a', 'b', 'c'))"
   ]
  },
  {
   "cell_type": "code",
   "execution_count": 31,
   "metadata": {
    "collapsed": true,
    "deletable": true,
    "editable": true
   },
   "outputs": [],
   "source": [
    "# pass.\n",
    "\n",
    "pocket = ['paper', 'cellphone', 'money']\n",
    "if 'money' in pocket :\n",
    "    pass\n",
    "else :\n",
    "    print (\"시계를 끌른다.\")"
   ]
  },
  {
   "cell_type": "code",
   "execution_count": 32,
   "metadata": {
    "collapsed": false,
    "deletable": true,
    "editable": true
   },
   "outputs": [
    {
     "name": "stdout",
     "output_type": "stream",
     "text": [
      "10\n",
      "9\n",
      "8\n",
      "7\n",
      "6\n",
      "5\n",
      "4\n",
      "3\n",
      "2\n",
      "1\n"
     ]
    }
   ],
   "source": [
    "# for문 range 연습.\n",
    "\n",
    "for i in range(10, 0, -1) :\n",
    "    print (i)"
   ]
  },
  {
   "cell_type": "code",
   "execution_count": 29,
   "metadata": {
    "collapsed": false,
    "deletable": true,
    "editable": true
   },
   "outputs": [
    {
     "name": "stdout",
     "output_type": "stream",
     "text": [
      "a = 200 / b = 375 / c = 425\n"
     ]
    }
   ],
   "source": [
    "# 세 자연수 a, b, c가 피타고라스 정리 a^2 + b^2 = c^2를 만족하고,\n",
    "# \"a < b < c\"이다. 이 때 \"a + b + c = 1000\"인 a, b, c를 구하시오.\n",
    "\n",
    "for a in range(1000) :\n",
    "    for b in range(1000) :\n",
    "        for c in range(1000) :\n",
    "            if a < b and b < c :\n",
    "                if a ** 2 + b ** 2 == c ** 2 :\n",
    "                    if a + b + c == 1000 : \n",
    "                        print (\"a =\", a, \"/ b =\", b, \"/ c =\", c)"
   ]
  },
  {
   "cell_type": "code",
   "execution_count": null,
   "metadata": {
    "collapsed": true,
    "deletable": true,
    "editable": true
   },
   "outputs": [],
   "source": []
  }
 ],
 "metadata": {
  "kernelspec": {
   "display_name": "Python 3",
   "language": "python",
   "name": "python3"
  },
  "language_info": {
   "codemirror_mode": {
    "name": "ipython",
    "version": 3
   },
   "file_extension": ".py",
   "mimetype": "text/x-python",
   "name": "python",
   "nbconvert_exporter": "python",
   "pygments_lexer": "ipython3",
   "version": "3.6.0"
  }
 },
 "nbformat": 4,
 "nbformat_minor": 2
}

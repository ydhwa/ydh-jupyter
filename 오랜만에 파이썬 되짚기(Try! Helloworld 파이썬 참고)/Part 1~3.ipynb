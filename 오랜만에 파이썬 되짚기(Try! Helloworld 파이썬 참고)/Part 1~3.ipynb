{
 "cells": [
  {
   "cell_type": "markdown",
   "metadata": {},
   "source": [
    "# Part 01. 시작하기\n",
    "# Part 02. 변수와 계산\n",
    "# Part 03. 조건문"
   ]
  },
  {
   "cell_type": "code",
   "execution_count": 3,
   "metadata": {},
   "outputs": [
    {
     "name": "stdout",
     "output_type": "stream",
     "text": [
      "Hello World!\n"
     ]
    }
   ],
   "source": [
    "# Hello World 출력\n",
    "print('Hello World!')"
   ]
  },
  {
   "cell_type": "code",
   "execution_count": 10,
   "metadata": {},
   "outputs": [
    {
     "name": "stdout",
     "output_type": "stream",
     "text": [
      "안녕! 나는 지구인 이야. 나는 다리가 4 개 있어.\n"
     ]
    }
   ],
   "source": [
    "# 변수 사용\n",
    "identity = '지구인'\n",
    "number_of_legs = 4\n",
    "print('안녕!', '나는', identity, '이야. 나는 다리가', number_of_legs, '개 있어.')"
   ]
  },
  {
   "cell_type": "code",
   "execution_count": 14,
   "metadata": {},
   "outputs": [
    {
     "name": "stdout",
     "output_type": "stream",
     "text": [
      "주석 처리하기\n"
     ]
    },
    {
     "data": {
      "text/plain": [
       "'\\n    그냥 # 쓰는 게\\n    훨씬 좋아보인다.\\n'"
      ]
     },
     "execution_count": 14,
     "metadata": {},
     "output_type": "execute_result"
    }
   ],
   "source": [
    "print('주석 처리하기')\n",
    "# 주석(한 줄)\n",
    "'''\n",
    "    여러\n",
    "    줄의\n",
    "    주석은\n",
    "    이렇게\n",
    "    처리한다는데\n",
    "'''\n",
    "\"\"\"\n",
    "    그냥 # 쓰는 게\n",
    "    훨씬 좋아보인다.\n",
    "\"\"\""
   ]
  },
  {
   "cell_type": "code",
   "execution_count": 16,
   "metadata": {},
   "outputs": [
    {
     "name": "stdout",
     "output_type": "stream",
     "text": [
      "9 곱하기 9는? 81\n",
      "30 나누기 5는? 6.0\n",
      "2의 10제곱은? 1024\n",
      "15를 4로 나눈 나머지는? 3\n"
     ]
    }
   ],
   "source": [
    "# 여러 가지 연산 예제\n",
    "multiply = 9 * 9\n",
    "divide = 30 / 5\n",
    "power = 2 ** 10\n",
    "reminder = 15 % 4\n",
    "print('9 곱하기 9는?', multiply)\n",
    "print('30 나누기 5는?', divide)\n",
    "print('2의 10제곱은?', power)\n",
    "print('15를 4로 나눈 나머지는?', reminder)"
   ]
  },
  {
   "cell_type": "code",
   "execution_count": 17,
   "metadata": {},
   "outputs": [
    {
     "name": "stdout",
     "output_type": "stream",
     "text": [
      "문자열: 20181996 \n",
      "정수: 4014\n"
     ]
    }
   ],
   "source": [
    "# 정수로 덧셈할 때와 문자열로 덧셈할 때의 차이\n",
    "text = '2018' + '1996'\n",
    "number = 2018 + 1996\n",
    "print('문자열:', text, \"\\n정수:\", number)"
   ]
  },
  {
   "cell_type": "markdown",
   "metadata": {},
   "source": [
    "## REPL\n",
    "- 파이썬 파일을 만들지 않아도 한 줄씩 코드를 입력하고 실행할 수 있음\n",
    "- 실행 법: cmd에 ```python```만 입력 후 실행"
   ]
  },
  {
   "cell_type": "code",
   "execution_count": 8,
   "metadata": {},
   "outputs": [
    {
     "name": "stdout",
     "output_type": "stream",
     "text": [
      "status가 True이면 실행됩니다.\n",
      "if문 블록 안에 들어가는 문장들은 들여쓰기를 해야 합니다.\n",
      "status가 boolean형이므로 이렇게 써도 실행됩니다.\n"
     ]
    }
   ],
   "source": [
    "# if문 사용하기\n",
    "status = True\n",
    "if status == True:\n",
    "    print('status가 True이면 실행됩니다.')\n",
    "    print('if문 블록 안에 들어가는 문장들은 들여쓰기를 해야 합니다.')\n",
    "if status:\n",
    "    print('status가 boolean형이므로 이렇게 써도 실행됩니다.')"
   ]
  },
  {
   "cell_type": "code",
   "execution_count": 11,
   "metadata": {},
   "outputs": [
    {
     "name": "stdout",
     "output_type": "stream",
     "text": [
      "True\n",
      "False\n",
      "True\n"
     ]
    }
   ],
   "source": [
    "# and, or, not\n",
    "print(True and True)\n",
    "print(not True)\n",
    "print(False or True)"
   ]
  },
  {
   "cell_type": "code",
   "execution_count": 15,
   "metadata": {},
   "outputs": [
    {
     "name": "stdout",
     "output_type": "stream",
     "text": [
      "status가 0보다 작거나 1보다 큽니다.\n"
     ]
    }
   ],
   "source": [
    "# if-else\n",
    "if True:\n",
    "    pass    # 조건이 참일 때 실행되는 코드\n",
    "else:\n",
    "    pass    # 조건이 거짓일 때 실행되는 코드\n",
    "\n",
    "# if-elif-else\n",
    "status = 2\n",
    "if status == 0:\n",
    "    print('status가 0입니다.')\n",
    "elif status == 1:\n",
    "    print('status가 1입니다.')\n",
    "else:\n",
    "    print('status가 0보다 작거나 1보다 큽니다.')"
   ]
  }
 ],
 "metadata": {
  "kernelspec": {
   "display_name": "Python 3",
   "language": "python",
   "name": "python3"
  },
  "language_info": {
   "codemirror_mode": {
    "name": "ipython",
    "version": 3
   },
   "file_extension": ".py",
   "mimetype": "text/x-python",
   "name": "python",
   "nbconvert_exporter": "python",
   "pygments_lexer": "ipython3",
   "version": "3.6.6"
  }
 },
 "nbformat": 4,
 "nbformat_minor": 2
}
